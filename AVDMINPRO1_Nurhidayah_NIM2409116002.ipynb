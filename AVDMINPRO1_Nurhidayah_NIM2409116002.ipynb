{
  "nbformat": 4,
  "nbformat_minor": 0,
  "metadata": {
    "colab": {
      "provenance": []
    },
    "kernelspec": {
      "name": "python3",
      "display_name": "Python 3"
    },
    "language_info": {
      "name": "python"
    }
  },
  "cells": [
    {
      "cell_type": "markdown",
      "source": [
        "# **Business Understanding**"
      ],
      "metadata": {
        "id": "V9AJbIDxDiLs"
      }
    },
    {
      "cell_type": "markdown",
      "source": [
        "## **Bussines Objective**"
      ],
      "metadata": {
        "id": "IVBvNtLwGSZv"
      }
    },
    {
      "cell_type": "markdown",
      "source": [
        "Tujuan utama dari proyek ini adalah menganalisis hubungan antara anggaran produksi dan pendapatan box office dalam animasi jepang yaitu anime, dan bertujuan untuk memahami apakah anggaran produksi memiliki pengaruh yang signifikan terhadap keberhasilan finansial dalam anime. Dengan hasil analisis ini, diharapkan dapat memberikan wawasan bagi studio anime, investor, dan produser untuk menentukan strategi produksi yang lebih efisien. Selain itu, analisis ini dapat membantu membantu dalam mengevaluasi faktor-faktor tambahan seperti genre, studio, dan popularitas yang dapat memengaruhi kinerja box office."
      ],
      "metadata": {
        "id": "yumYP-cZHokD"
      }
    },
    {
      "cell_type": "markdown",
      "source": [
        "## **Assess Situation**"
      ],
      "metadata": {
        "id": "zc8nxWv7Zim7"
      }
    },
    {
      "cell_type": "markdown",
      "source": [
        "Industri film anime berkembang pesat setiap tahunnya, dengan beberapa film sukses besar di box office sementara yang lain mengalami kegagalan finansial. Pendapatan box office dipengaruhi oleh anggaran produksi (animasi, pengisi suara, pemasaran), genre (misalnya shounen, isekai, fantasi), studio produksi (Ufotable, Kyoto Animation, Madhouse), dan strategi perilisan (lokal vs internasional) dan yang menjadi tantangan utama adalah memastikan data yang representatif dan mempertimbangkan variabel lain yang memengaruhi pendapatan."
      ],
      "metadata": {
        "id": "xhRW5CvmmaaD"
      }
    },
    {
      "cell_type": "markdown",
      "source": [
        "## **Data Mining Goals**"
      ],
      "metadata": {
        "id": "Mc64TQFsnYvE"
      }
    },
    {
      "cell_type": "markdown",
      "source": [
        "Mengindetifikasi seberapa besar korelasi antara anggaran produksi dan pendapatan box office, dan menganalisis tren dalam kesuksesan film anime berdasarkan anggaran dan strategi distribusi. Mengkaji pengaruh genre, studio, dan popularitas terhadap pendapatan, dan mengembangkan model prediktif sederhana untuk memperkirakan pendapatan box office berdasarkan faktor-faktor ini."
      ],
      "metadata": {
        "id": "B6AVenCSncsF"
      }
    },
    {
      "cell_type": "markdown",
      "source": [
        "## **Project Plan**"
      ],
      "metadata": {
        "id": "syOBrBzopB5F"
      }
    },
    {
      "cell_type": "markdown",
      "source": [
        "Untuk menganalisis faktor-faktor yang memengaruhi kesuksesan box office film anime, langkah pertama yang harus dilakukan adalah mengumpulkan data dari sumber-sumber seperti Box Office Mojo, IMDb, atau MyAnimeList, dengan kumpulan data yang meliputi judul film, tahun rilis, anggaran produksi, pendapatan box office, studio, dan genre. Setelah data terkumpul, data tersebut perlu dibersihkan dengan membuang data yang tidak lengkap atau tidak valid dan menstandardisasi format angka, seperti mengonversi semua pendapatan ke USD untuk analisis yang lebih akurat. Selanjutnya, dilakukan analisis eksploratif menggunakan diagram batang untuk melihat hubungan antara anggaran produksi dan pendapatan, serta menghitung koefisien korelasi Pearson atau Spearman untuk mengetahui seberapa kuat hubungan antara kedua variabel tersebut. Selain itu, akan dilakukan analisis lebih lanjut untuk menilai pengaruh genre dan studio produksi terhadap kesuksesan film, apakah ada pola tertentu yang menunjukkan bahwa genre atau studio tertentu cenderung memproduksi film dengan pendapatan kotor yang lebih tinggi. Untuk melihat apakah anggaran produksi dapat digunakan sebagai prediktor pendapatan box office, dibuat model regresi linier sederhana, yang kemudian dibandingkan dengan data historis untuk menilai akurasinya. Dari semua hasil analisis ini, akan ditarik kesimpulan untuk memberikan rekomendasi bagi produsen dan studio anime dalam menentukan strategi produksi dan distribusi film yang lebih optimal."
      ],
      "metadata": {
        "id": "k-XfzYykLwhF"
      }
    }
  ]
}